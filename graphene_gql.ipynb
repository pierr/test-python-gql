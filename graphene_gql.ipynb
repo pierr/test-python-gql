{
 "cells": [
  {
   "cell_type": "code",
   "execution_count": 189,
   "metadata": {},
   "outputs": [],
   "source": [
    "import json\n",
    "import graphene\n",
    "\n",
    "from __future__ import print_function\n"
   ]
  },
  {
   "cell_type": "code",
   "execution_count": null,
   "metadata": {},
   "outputs": [],
   "source": []
  },
  {
   "cell_type": "code",
   "execution_count": 235,
   "metadata": {},
   "outputs": [],
   "source": [
    "# unused class\n",
    "class TrialArgsData(graphene.InputObjectType):\n",
    "    name = 'TrialArgsData'\n",
    "    description = 'For the celery task: engine:train:get-trial-result'\n",
    "\n",
    "    dataset = graphene.String()\n",
    "    modelchoice = graphene.String()\n",
    "    project = graphene.String()\n",
    "    train_id = graphene.String()\n",
    "    transfo_id = graphene.String()"
   ]
  },
  {
   "cell_type": "code",
   "execution_count": null,
   "metadata": {},
   "outputs": [],
   "source": []
  },
  {
   "cell_type": "code",
   "execution_count": 236,
   "metadata": {},
   "outputs": [],
   "source": [
    "class TrialArgsInput(graphene.InputObjectType):\n",
    "    meta=graphene.String()\n",
    "    data=graphene.String()"
   ]
  },
  {
   "cell_type": "code",
   "execution_count": 237,
   "metadata": {},
   "outputs": [],
   "source": [
    "class TrialArgsOutPut(graphene.ObjectType):\n",
    "    meta=graphene.String()\n",
    "    data=graphene.String()"
   ]
  },
  {
   "cell_type": "code",
   "execution_count": null,
   "metadata": {},
   "outputs": [],
   "source": []
  },
  {
   "cell_type": "code",
   "execution_count": 238,
   "metadata": {},
   "outputs": [],
   "source": [
    "class TrialResults(graphene.InputObjectType):\n",
    "    task = graphene.String(required=True)\n",
    "    kwargs = graphene.String(required=True)\n",
    "    id_ = graphene.String(required=True)  \n",
    "    lol = TrialArgsInput(required=True)"
   ]
  },
  {
   "cell_type": "code",
   "execution_count": null,
   "metadata": {},
   "outputs": [],
   "source": []
  },
  {
   "cell_type": "code",
   "execution_count": null,
   "metadata": {},
   "outputs": [],
   "source": []
  },
  {
   "cell_type": "code",
   "execution_count": 241,
   "metadata": {},
   "outputs": [],
   "source": [
    "class TrialTypeDefinition(graphene.ObjectType):\n",
    "    task = graphene.String()\n",
    "    kwargs = graphene.String()\n",
    "    id_ = graphene.String()\n",
    "    lol = TrialArgsOutPut()"
   ]
  },
  {
   "cell_type": "code",
   "execution_count": null,
   "metadata": {},
   "outputs": [],
   "source": []
  },
  {
   "cell_type": "code",
   "execution_count": 242,
   "metadata": {},
   "outputs": [],
   "source": [
    "class CreateTrialMutation(graphene.Mutation):\n",
    "\n",
    "    class Arguments:\n",
    "        # trial_results will be replaced by\n",
    "        # trialResults in graphQL format\n",
    "        trial_results = TrialResults(required=True)\n",
    "\n",
    "    Output = TrialTypeDefinition\n",
    "\n",
    "    def mutate(self, info, trial_results):\n",
    "        print('Mutate')\n",
    "        # print(trial_results)\n",
    "        print('end mutate')\n",
    "        return TrialTypeDefinition(\n",
    "            task=trial_results.task,\n",
    "            kwargs=trial_results.kwargs,\n",
    "            id_=trial_results.id_,\n",
    "            lol=trial_results.lol\n",
    "        )"
   ]
  },
  {
   "cell_type": "code",
   "execution_count": null,
   "metadata": {},
   "outputs": [],
   "source": []
  },
  {
   "cell_type": "code",
   "execution_count": 243,
   "metadata": {},
   "outputs": [],
   "source": [
    "class TrialMutation(graphene.ObjectType):\n",
    "    # create_trial_mutation will be replaced by\n",
    "    # createTrialMutation\n",
    "    # in graphQL format\n",
    "    create_trial_mutation = CreateTrialMutation.Field()"
   ]
  },
  {
   "cell_type": "code",
   "execution_count": null,
   "metadata": {},
   "outputs": [],
   "source": []
  },
  {
   "cell_type": "code",
   "execution_count": 244,
   "metadata": {},
   "outputs": [],
   "source": [
    "schema = graphene.Schema(mutation=TrialMutation)"
   ]
  },
  {
   "cell_type": "code",
   "execution_count": null,
   "metadata": {},
   "outputs": [],
   "source": []
  },
  {
   "cell_type": "code",
   "execution_count": null,
   "metadata": {},
   "outputs": [],
   "source": []
  },
  {
   "cell_type": "code",
   "execution_count": null,
   "metadata": {},
   "outputs": [],
   "source": []
  },
  {
   "cell_type": "code",
   "execution_count": 245,
   "metadata": {},
   "outputs": [],
   "source": [
    "mutate_args1 = '''\n",
    "task:\\\"engine:train:get-trial-result\\\",\n",
    "kwargs:\\\"\\\",\n",
    "id_:\\\"ed0f9e10-7b43-42da-93b4-7b3e0f0fb70f\\\"'''\n",
    "\n",
    "mutation1 = '''\n",
    "    mutation toto{\n",
    "      createTrialMutation(trialResults: { ''' + mutate_args1 + '''}) {\n",
    "        task\n",
    "        kwargs\n",
    "        id_\n",
    "      }\n",
    "    }\n",
    "'''\n"
   ]
  },
  {
   "cell_type": "code",
   "execution_count": 246,
   "metadata": {},
   "outputs": [],
   "source": [
    "mutate_args2 = '''\n",
    "task:\\\"engine:train:get-trial-result\\\",\n",
    "kwargs:\\\"\\\",\n",
    "id_:\\\"ed0f9e10-7b43-42da-93b4-7b3e0f0fb70f\\\",\n",
    "lol: {\\\"meta\\\":\\\"requested\\\", \n",
    "    \\\"data\\\": {  \n",
    "        \\\"dataset\\\":\\\"5ac7a6faf644b20166caf597\\\",\n",
    "        \\\"modelchoice\\\":\\\"supervised\\\",\n",
    "        \\\"project\\\":\\\"5ac7a6edf644b20166caf596\\\",\n",
    "        \\\"train_id\\\":\\\"5ace094a761e68003c34fda1\\\",\n",
    "        \\\"transfo_id\\\":\\\"5ace094a761e68003c34fda0\\\"\n",
    "    }\n",
    "}\n",
    "'''\n",
    "\n",
    "\n",
    "mutate_arg2_dict = {\n",
    "    'task':\"engine:train:get-trial-result\",\n",
    "    'kwargs':\"\",\n",
    "    'id_':\"ed0f9e10-7b43-42da-93b4-7b3e0f0fb70f\",\n",
    "    'lol': {\n",
    "        \"meta\":\"requested\", \n",
    "        \"data\": \"lolo\"\n",
    "    }\n",
    "}\n",
    "\n",
    "\n",
    "mutation2 = '''\n",
    "    mutation toto($param: TrialResults!){\n",
    "      createTrialMutation(trialResults: $param) {\n",
    "        task\n",
    "        kwargs\n",
    "        id_\n",
    "        lol\n",
    "      }\n",
    "    }\n",
    "'''"
   ]
  },
  {
   "cell_type": "code",
   "execution_count": null,
   "metadata": {},
   "outputs": [],
   "source": []
  },
  {
   "cell_type": "code",
   "execution_count": 247,
   "metadata": {},
   "outputs": [],
   "source": [
    "def validateTrialMutation(json_data):\n",
    "    print(\"In get_trial_mutation: validateTrialMutation\")\n",
    "\n",
    "    # first test with a hard-coded\n",
    "    # graphQL mutation\n",
    "    graphQL_muta = mutation1\n",
    "    print(graphQL_muta)\n",
    "\n",
    "    print(\"<---JSON DATA ---->\\n\", json_data)\n",
    "\n",
    "    # translate json data to GraphQL format\n",
    "    # TODO: write the adapter function\n",
    "\n",
    "    # muta1\n",
    "    result1 = schema.execute(mutation1)\n",
    "    print(mutation1)\n",
    "    print(\"<---Results 1 ---->\\n\", result1)\n",
    "    print(\"<---Results 1 / data ---->\\n\", result1.data)\n",
    "    # print(result1.data['createAddress']['latlng'])\n",
    "    print(\"<---ERRORS ---->\\n\", result1.errors, \"\\n\")\n",
    "    # raw_input(\"muta1 executed\\n\")\n",
    "\n",
    "    # muta1\n",
    "    result2 = schema.execute(mutation2, variable_values={'param': mutate_arg2_dict})\n",
    "    print(mutation2)\n",
    "    print(\"<---Results 2 ---->\\n\", result2)\n",
    "    print(\"<---Results 2 / data ---->\\n\", result2.data)\n",
    "    # print(result1.data['createAddress']['latlng'])\n",
    "    print(\"<---ERRORS ---->\\n\", result2.errors, \"\\n\")\n",
    "    # raw_input(\"muta1 executed\\n\")\n",
    "\n",
    "    return True"
   ]
  },
  {
   "cell_type": "code",
   "execution_count": null,
   "metadata": {},
   "outputs": [],
   "source": []
  },
  {
   "cell_type": "code",
   "execution_count": 248,
   "metadata": {},
   "outputs": [
    {
     "name": "stdout",
     "output_type": "stream",
     "text": [
      "Please provide json file name\n",
      "[u'task', u'id', u'args', u'kwargs']\n",
      "In get_trial_mutation: validateTrialMutation\n",
      "\n",
      "    mutation toto{\n",
      "      createTrialMutation(trialResults: { \n",
      "task:\"engine:train:get-trial-result\",\n",
      "kwargs:\"\",\n",
      "id_:\"ed0f9e10-7b43-42da-93b4-7b3e0f0fb70f\"}) {\n",
      "        task\n",
      "        kwargs\n",
      "        id_\n",
      "      }\n",
      "    }\n",
      "\n",
      "<---JSON DATA ---->\n",
      " {u'task': u'engine:train:get-trial-result', u'id': u'ed0f9e10-7b43-42da-93b4-7b3e0f0fb70f', u'args': [{u'status': u'requested'}, {u'project': u'5ac7a6edf644b20166caf596', u'modelchoice': u'supervised', u'transfo_id': u'5ace094a761e68003c34fda0', u'train_id': u'5ace094a761e68003c34fda1', u'dataset': u'5ac7a6faf644b20166caf597'}], u'kwargs': {}}\n",
      "\n",
      "    mutation toto{\n",
      "      createTrialMutation(trialResults: { \n",
      "task:\"engine:train:get-trial-result\",\n",
      "kwargs:\"\",\n",
      "id_:\"ed0f9e10-7b43-42da-93b4-7b3e0f0fb70f\"}) {\n",
      "        task\n",
      "        kwargs\n",
      "        id_\n",
      "      }\n",
      "    }\n",
      "\n",
      "<---Results 1 ---->\n",
      " <graphql.execution.base.ExecutionResult object at 0x7f48c4da3fc8>\n",
      "<---Results 1 / data ---->\n",
      " None\n",
      "<---ERRORS ---->\n",
      " [GraphQLError('Argument \"trialResults\" has invalid value {task: \"engine:train:get-trial-result\", kwargs: \"\", id_: \"ed0f9e10-7b43-42da-93b4-7b3e0f0fb70f\"}.\\nIn field \"lol\": Expected \"TrialArgsInput!\", found null.',)] \n",
      "\n",
      "\n",
      "    mutation toto($param: TrialResults!){\n",
      "      createTrialMutation(trialResults: $param) {\n",
      "        task\n",
      "        kwargs\n",
      "        id_\n",
      "        lol\n",
      "      }\n",
      "    }\n",
      "\n",
      "<---Results 2 ---->\n",
      " <graphql.execution.base.ExecutionResult object at 0x7f48c4da3bd8>\n",
      "<---Results 2 / data ---->\n",
      " None\n",
      "<---ERRORS ---->\n",
      " [GraphQLError('Cannot query field \"lol\" on type \"TrialTypeDefinition\".',)] \n",
      "\n"
     ]
    },
    {
     "data": {
      "text/plain": [
       "True"
      ]
     },
     "execution_count": 248,
     "metadata": {},
     "output_type": "execute_result"
    }
   ],
   "source": [
    "    print(\"Please provide json file name\")\n",
    "    json_file = \"trial_results.json\"  # raw_input(\">> \")\n",
    "    # Load the json in a dirctionnary\n",
    "    data = json.load(open(json_file))\n",
    "\n",
    "    print(data.keys())\n",
    "\n",
    "    # Now we check if json stored in data\n",
    "    # is compliant with get-trial-results schema\n",
    "    validateTrialMutation(data)"
   ]
  },
  {
   "cell_type": "code",
   "execution_count": null,
   "metadata": {},
   "outputs": [],
   "source": []
  },
  {
   "cell_type": "code",
   "execution_count": null,
   "metadata": {},
   "outputs": [],
   "source": []
  },
  {
   "cell_type": "code",
   "execution_count": null,
   "metadata": {},
   "outputs": [],
   "source": []
  },
  {
   "cell_type": "code",
   "execution_count": null,
   "metadata": {},
   "outputs": [],
   "source": []
  },
  {
   "cell_type": "code",
   "execution_count": null,
   "metadata": {},
   "outputs": [],
   "source": []
  }
 ],
 "metadata": {
  "kernelspec": {
   "display_name": "Python 2",
   "language": "python",
   "name": "python2"
  },
  "language_info": {
   "codemirror_mode": {
    "name": "ipython",
    "version": 2
   },
   "file_extension": ".py",
   "mimetype": "text/x-python",
   "name": "python",
   "nbconvert_exporter": "python",
   "pygments_lexer": "ipython2",
   "version": "2.7.12"
  }
 },
 "nbformat": 4,
 "nbformat_minor": 2
}
