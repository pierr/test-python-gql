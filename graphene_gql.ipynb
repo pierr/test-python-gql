{
 "cells": [
  {
   "cell_type": "code",
   "execution_count": 3,
   "metadata": {},
   "outputs": [],
   "source": [
    "import json\n",
    "import graphene\n",
    "\n",
    "from __future__ import print_function\n"
   ]
  },
  {
   "cell_type": "code",
   "execution_count": null,
   "metadata": {},
   "outputs": [],
   "source": []
  },
  {
   "cell_type": "code",
   "execution_count": 6,
   "metadata": {},
   "outputs": [],
   "source": [
    "class TrialArgsData(graphene.InputObjectType):\n",
    "    name = 'TrialArgsData'\n",
    "    description = 'For the celery task: engine:train:get-trial-result'\n",
    "\n",
    "    dataset = graphene.String()\n",
    "    modelchoice = graphene.String()\n",
    "    project = graphene.String()\n",
    "    train_id = graphene.String()\n",
    "    transfo_id = graphene.String()"
   ]
  },
  {
   "cell_type": "code",
   "execution_count": null,
   "metadata": {},
   "outputs": [],
   "source": []
  },
  {
   "cell_type": "code",
   "execution_count": 7,
   "metadata": {},
   "outputs": [],
   "source": [
    "class TrialArgs(graphene.InputObjectType):\n",
    "    meta=graphene.String()\n",
    "    data=TrialArgsData"
   ]
  },
  {
   "cell_type": "code",
   "execution_count": 8,
   "metadata": {},
   "outputs": [],
   "source": [
    "class TrialResults(graphene.InputObjectType):\n",
    "    task = graphene.String(required=True)\n",
    "    kwargs = graphene.String(required=True)\n",
    "    id = graphene.String(required=True)  # TODO: rename id_\n",
    "    args = TrialArgs(required=True)"
   ]
  },
  {
   "cell_type": "code",
   "execution_count": 9,
   "metadata": {},
   "outputs": [],
   "source": [
    "class TrialTypeDefinition(graphene.ObjectType):\n",
    "    task = graphene.String()\n",
    "    kwargs = graphene.String()\n",
    "    id = graphene.String()\n",
    "    args = TrialArgs"
   ]
  },
  {
   "cell_type": "code",
   "execution_count": null,
   "metadata": {},
   "outputs": [],
   "source": []
  },
  {
   "cell_type": "code",
   "execution_count": 10,
   "metadata": {},
   "outputs": [],
   "source": [
    "class CreateTrialMutation(graphene.Mutation):\n",
    "\n",
    "    class Arguments:\n",
    "        # trial_results will be replaced by\n",
    "        # trialResults in graphQL format\n",
    "        trial_results = TrialResults(required=True)\n",
    "\n",
    "    Output = TrialTypeDefinition\n",
    "\n",
    "    def mutate(self, info, trial_results):\n",
    "        return TrialTypeDefinition(\n",
    "            task=trial_results.task,\n",
    "            kwargs=trial_results.kwargs,\n",
    "            id=trial_results.id,\n",
    "            args=trial_results.args\n",
    "        )"
   ]
  },
  {
   "cell_type": "code",
   "execution_count": null,
   "metadata": {},
   "outputs": [],
   "source": []
  },
  {
   "cell_type": "code",
   "execution_count": 11,
   "metadata": {},
   "outputs": [],
   "source": [
    "class TrialMutation(graphene.ObjectType):\n",
    "    # create_trial_mutation will be replaced by\n",
    "    # createTrialMutation\n",
    "    # in graphQL format\n",
    "    create_trial_mutation = CreateTrialMutation.Field()"
   ]
  },
  {
   "cell_type": "code",
   "execution_count": null,
   "metadata": {},
   "outputs": [],
   "source": []
  },
  {
   "cell_type": "code",
   "execution_count": 12,
   "metadata": {},
   "outputs": [],
   "source": [
    "schema = graphene.Schema(mutation=TrialMutation)\n",
    "\n",
    "\n",
    "mutate_args = '''\n",
    "task:\\\"engine:train:get-trial-result\\\",\n",
    "kwargs:\\\"\\\",\n",
    "id:\\\"ed0f9e10-7b43-42da-93b4-7b3e0f0fb70f\\\"'''\n",
    "\n",
    "hard_coded_mutation = '''\n",
    "    mutation toto{\n",
    "      createTrialMutation(trialResults: { ''' + mutate_args + '''}) {\n",
    "        task\n",
    "        kwargs\n",
    "        id\n",
    "      }\n",
    "    }\n",
    "'''"
   ]
  },
  {
   "cell_type": "code",
   "execution_count": null,
   "metadata": {},
   "outputs": [],
   "source": []
  },
  {
   "cell_type": "code",
   "execution_count": 13,
   "metadata": {},
   "outputs": [],
   "source": [
    "def validateTrialMutation(json_data):\n",
    "    print(\"In get_trial_mutation: validateTrialMutation\")\n",
    "\n",
    "    # first test with a hard-coded\n",
    "    # graphQL mutation\n",
    "    graphQL_muta = hard_coded_mutation\n",
    "    print(graphQL_muta)\n",
    "\n",
    "    print(\"<---JSON DATA ---->\\n\", json_data)\n",
    "\n",
    "    # translate json data to GraphQL format\n",
    "    # TODO: write the adapter function\n",
    "\n",
    "    # muta1\n",
    "    result1 = schema.execute(graphQL_muta)\n",
    "    print(\"<---Results 1 ---->\\n\", result1)\n",
    "    print(\"<---Results 1 / data ---->\\n\", result1.data)\n",
    "    # print(result1.data['createAddress']['latlng'])\n",
    "    print(\"<---ERRORS ---->\\n\", result1.errors)\n",
    "    raw_input(\"muta1 executed\\n\")\n",
    "\n",
    "    # validatFromSchema(schema, data_to_validate)\n",
    "    # print(CreateTrialMutation.Field())\n",
    "    # if 'task' not in data_block:\n",
    "    #     return False\n",
    "\n",
    "    return True"
   ]
  },
  {
   "cell_type": "code",
   "execution_count": null,
   "metadata": {},
   "outputs": [],
   "source": []
  },
  {
   "cell_type": "code",
   "execution_count": null,
   "metadata": {},
   "outputs": [],
   "source": []
  },
  {
   "cell_type": "code",
   "execution_count": null,
   "metadata": {},
   "outputs": [],
   "source": []
  },
  {
   "cell_type": "code",
   "execution_count": 16,
   "metadata": {},
   "outputs": [
    {
     "name": "stdout",
     "output_type": "stream",
     "text": [
      "Please provide json file name\n",
      "[u'task', u'id', u'args', u'kwargs']\n",
      "In get_trial_mutation: validateTrialMutation\n",
      "\n",
      "    mutation toto{\n",
      "      createTrialMutation(trialResults: { \n",
      "task:\"engine:train:get-trial-result\",\n",
      "kwargs:\"\",\n",
      "id:\"ed0f9e10-7b43-42da-93b4-7b3e0f0fb70f\"}) {\n",
      "        task\n",
      "        kwargs\n",
      "        id\n",
      "      }\n",
      "    }\n",
      "\n",
      "<---JSON DATA ---->\n",
      " {u'task': u'engine:train:get-trial-result', u'id': u'ed0f9e10-7b43-42da-93b4-7b3e0f0fb70f', u'args': [{u'status': u'requested'}, {u'project': u'5ac7a6edf644b20166caf596', u'modelchoice': u'supervised', u'transfo_id': u'5ace094a761e68003c34fda0', u'train_id': u'5ace094a761e68003c34fda1', u'dataset': u'5ac7a6faf644b20166caf597'}], u'kwargs': {}}\n",
      "<---Results 1 ---->\n",
      " <graphql.execution.base.ExecutionResult object at 0x7f48cc15a830>\n",
      "<---Results 1 / data ---->\n",
      " None\n",
      "<---ERRORS ---->\n",
      " [GraphQLError('Argument \"trialResults\" has invalid value {task: \"engine:train:get-trial-result\", kwargs: \"\", id: \"ed0f9e10-7b43-42da-93b4-7b3e0f0fb70f\"}.\\nIn field \"args\": Expected \"TrialArgs!\", found null.',)]\n",
      "muta1 executed\n",
      "\n"
     ]
    },
    {
     "data": {
      "text/plain": [
       "True"
      ]
     },
     "execution_count": 16,
     "metadata": {},
     "output_type": "execute_result"
    }
   ],
   "source": [
    "    print(\"Please provide json file name\")\n",
    "    json_file = \"trial_results.json\"  # raw_input(\">> \")\n",
    "    # Load the json in a dirctionnary\n",
    "    data = json.load(open(json_file))\n",
    "\n",
    "    print(data.keys())\n",
    "\n",
    "    # Now we check if json stored in data\n",
    "    # is compliant with get-trial-results schema\n",
    "    validateTrialMutation(data)"
   ]
  },
  {
   "cell_type": "code",
   "execution_count": null,
   "metadata": {},
   "outputs": [],
   "source": []
  },
  {
   "cell_type": "code",
   "execution_count": null,
   "metadata": {},
   "outputs": [],
   "source": []
  }
 ],
 "metadata": {
  "kernelspec": {
   "display_name": "Python 2",
   "language": "python",
   "name": "python2"
  },
  "language_info": {
   "codemirror_mode": {
    "name": "ipython",
    "version": 2
   },
   "file_extension": ".py",
   "mimetype": "text/x-python",
   "name": "python",
   "nbconvert_exporter": "python",
   "pygments_lexer": "ipython2",
   "version": "2.7.12"
  }
 },
 "nbformat": 4,
 "nbformat_minor": 2
}
