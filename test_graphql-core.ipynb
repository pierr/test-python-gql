{
 "cells": [
  {
   "cell_type": "code",
   "execution_count": 1,
   "metadata": {},
   "outputs": [],
   "source": [
    "'''\n",
    "imports\n",
    "'''\n",
    "from graphql.type import (GraphQLArgument, GraphQLEnumType, GraphQLEnumValue,\n",
    "                          GraphQLField, GraphQLInterfaceType, GraphQLList,\n",
    "                          GraphQLNonNull, GraphQLObjectType, GraphQLSchema,\n",
    "                          GraphQLString,\n",
    "                         GraphQLInputObjectField, GraphQLInputObjectType\n",
    "                         )\n"
   ]
  },
  {
   "cell_type": "code",
   "execution_count": 2,
   "metadata": {},
   "outputs": [],
   "source": [
    "'''\n",
    "    The query types\n",
    "'''# Define the meta part of the task\n",
    "metaType = GraphQLObjectType('Meta', description='The meta informations', fields=lambda: {\n",
    "    'status': GraphQLField(\n",
    "            GraphQLString,\n",
    "            description='The status of the metadata',\n",
    "        )\n",
    "})\n",
    "# Define the data part of the task\n",
    "dataType =  GraphQLObjectType('Data', description='The meta informations', fields=lambda: {\n",
    "'name': GraphQLField(\n",
    "        GraphQLString,\n",
    "        description='The name of the data',\n",
    "    )\n",
    "})\n",
    "# Define a query task type\n",
    "taskType = GraphQLObjectType(\n",
    "    'Task',\n",
    "    description='A rabitMQ task from api to engine.',\n",
    "    fields=lambda: {\n",
    "        'id': GraphQLField(\n",
    "            GraphQLNonNull(GraphQLString),\n",
    "            description='The id of the task.'\n",
    "        ),\n",
    "        'meta': GraphQLField(metaType),\n",
    "        'data': GraphQLField(dataType)\n",
    "    }\n",
    ")\n",
    "# Define the query type of graphql\n",
    "queryType = GraphQLObjectType(\n",
    "    'Query',\n",
    "    fields=lambda: {\n",
    "        'startTraining': GraphQLField(\n",
    "            taskType,\n",
    "            resolver=lambda root, info, **args: {'id': '1', 'meta': {'status': 'error'}, 'data': {'name': 'Pierre'}}\n",
    "        )\n",
    "        \n",
    "    }\n",
    ")"
   ]
  },
  {
   "cell_type": "code",
   "execution_count": 3,
   "metadata": {},
   "outputs": [],
   "source": [
    "'''\n",
    "The mutation part\n",
    "'''\n",
    "\n",
    "# Define the meta part of the task\n",
    "metaInputType = GraphQLInputObjectType('MetaInput', description='The meta informations', fields=lambda: {\n",
    "    'status': GraphQLInputObjectField(\n",
    "            GraphQLString,\n",
    "            description='The status of the metadata',\n",
    "        )\n",
    "})\n",
    "# Define the data part of the task\n",
    "dataInputType =  GraphQLInputObjectType('DataInput', description='The meta informations', fields=lambda: {\n",
    "'name': GraphQLInputObjectField(\n",
    "        GraphQLString,\n",
    "        description='The name of the data',\n",
    "    )\n",
    "})\n",
    "# Define a query task type\n",
    "taskInputType = GraphQLInputObjectType(\n",
    "    'TaskInput',\n",
    "    description='A rabitMQ task from api to engine.',\n",
    "    fields=lambda: {\n",
    "        'id': GraphQLInputObjectField(\n",
    "            GraphQLNonNull(GraphQLString),\n",
    "            description='The id of the task.'\n",
    "        ),\n",
    "        'meta': GraphQLInputObjectField(metaInputType),\n",
    "        'data': GraphQLInputObjectField(dataInputType)\n",
    "    }\n",
    ")\n",
    "\n",
    "def mutation_task_resolver(root, info, **args):\n",
    "    print 'mutation_task_resolver'\n",
    "    print args\n",
    "    print info\n",
    "    return {'id': '1', 'meta': {'status': 'error'}, 'data': {'name': 'Pierre'}}\n",
    "# Define the query type of graphql\n",
    "mutationTask = GraphQLObjectType(\n",
    "    'Mutation',\n",
    "    fields=lambda: {\n",
    "        'startTraining': GraphQLField(\n",
    "            taskType,\n",
    "            args={'task': GraphQLArgument(\n",
    "                description='The task argument',\n",
    "                type=taskInputType\n",
    "            )},\n",
    "            resolver=mutation_task_resolver\n",
    "        )\n",
    "        \n",
    "    }\n",
    ")\n"
   ]
  },
  {
   "cell_type": "code",
   "execution_count": 4,
   "metadata": {
    "scrolled": true
   },
   "outputs": [
    {
     "name": "stdout",
     "output_type": "stream",
     "text": [
      "\n",
      "    query TestTask1 {\n",
      "       startTraining {\n",
      "           meta { status }\n",
      "       }\n",
      "    }\n",
      "\n",
      "task.graphql\n",
      "[]\n"
     ]
    }
   ],
   "source": [
    "'''\n",
    "Building the final schema\n",
    "'''\n",
    "TaskSchema = GraphQLSchema(query=queryType, mutation=mutationTask , types=[metaType, dataType, taskType])\n",
    "\n",
    "### Test on some schema validation\n",
    "from graphql.language.parser import parse\n",
    "from graphql.language.source import Source\n",
    "from graphql.validation import validate\n",
    "def validation_errors(query):\n",
    "    source = Source(query, 'task.graphql')\n",
    "    print(source.body)\n",
    "    print(source.name)\n",
    "    ast = parse(source)\n",
    "    return validate(TaskSchema, ast)\n",
    "q = '''\n",
    "    query TestTask1 {\n",
    "       startTraining {\n",
    "           meta { status }\n",
    "       }\n",
    "    }\n",
    "'''\n",
    "print(validation_errors(q))"
   ]
  },
  {
   "cell_type": "code",
   "execution_count": null,
   "metadata": {},
   "outputs": [],
   "source": [
    "#### from graphql import graphql\n",
    "def test_mutation(mutation_query, variables):\n",
    "    print variables\n",
    "    res = graphql(TaskSchema, mutation_query, variable_values=variables)\n",
    "    print (res.data)\n",
    "    print (res.errors)\n",
    "    \n",
    "mq = '''\n",
    "mutation TryStartTrain($task: TaskInput) {\n",
    "            startTraining(task: $task) {\n",
    "                data {\n",
    "                    name\n",
    "                }\n",
    "            }\n",
    "        }\n",
    "\n",
    "'''\n",
    "mv = {'task': {'id': '1', 'meta': {'statas': 1}, 'data': {'name': 'Pierre'}}}\n",
    "test_mutation(mq, mv)\n",
    "\n",
    "print(\"\\n\\n\")\n",
    "\n",
    "mv = {'task': {'id': '1', 'meta': {'status': 1}, 'data': {'name': 'Pierre'}}}\n",
    "test_mutation(mq, mv)"
   ]
  },
  {
   "cell_type": "code",
   "execution_count": 8,
   "metadata": {},
   "outputs": [],
   "source": [
    "var = {'id': '1', 'meta': {'status': 1}, 'data': {'name': 'Pierre'}}\n",
    "\n",
    "def validate_start_training(parameters):\n",
    "    test_mutation(mq, {'task': parameters})\n",
    "    \n",
    "def validate(task_name, parameters):\n",
    "    return {\n",
    "        'engine:start': validate_start_training\n",
    "    }[task_name](parameters)"
   ]
  },
  {
   "cell_type": "code",
   "execution_count": 9,
   "metadata": {},
   "outputs": [
    {
     "name": "stdout",
     "output_type": "stream",
     "text": [
      "{'task': {'meta': {'status': 1}, 'data': {'name': 'Pierre'}, 'id': '1'}}\n",
      "mutation_task_resolver\n",
      "{'task': {'meta': {'status': u'1'}, 'data': {'name': 'Pierre'}, 'id': '1'}}\n",
      "<graphql.execution.base.ResolveInfo object at 0x7fc535366cd0>\n",
      "OrderedDict([('startTraining', OrderedDict([('data', None)]))])\n",
      "None\n"
     ]
    }
   ],
   "source": [
    "validate('engine:start', var)"
   ]
  },
  {
   "cell_type": "code",
   "execution_count": null,
   "metadata": {},
   "outputs": [],
   "source": []
  },
  {
   "cell_type": "code",
   "execution_count": null,
   "metadata": {},
   "outputs": [],
   "source": []
  },
  {
   "cell_type": "code",
   "execution_count": null,
   "metadata": {},
   "outputs": [],
   "source": []
  },
  {
   "cell_type": "code",
   "execution_count": null,
   "metadata": {},
   "outputs": [],
   "source": []
  }
 ],
 "metadata": {
  "kernelspec": {
   "display_name": "Python 2",
   "language": "python",
   "name": "python2"
  },
  "language_info": {
   "codemirror_mode": {
    "name": "ipython",
    "version": 2
   },
   "file_extension": ".py",
   "mimetype": "text/x-python",
   "name": "python",
   "nbconvert_exporter": "python",
   "pygments_lexer": "ipython2",
   "version": "2.7.12"
  }
 },
 "nbformat": 4,
 "nbformat_minor": 2
}
